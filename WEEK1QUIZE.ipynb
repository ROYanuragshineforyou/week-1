{
 "cells": [
  {
   "cell_type": "code",
   "execution_count": null,
   "id": "e8dff262-02de-45cb-80e5-222bea0beeae",
   "metadata": {},
   "outputs": [],
   "source": []
  },
  {
   "cell_type": "code",
   "execution_count": 2,
   "id": "c719ca61-9cbb-4257-b77c-2a311c2def46",
   "metadata": {},
   "outputs": [
    {
     "name": "stdout",
     "output_type": "stream",
     "text": [
      "----------------------\n",
      "Total alphabet in english?: \n",
      "A. 26\n",
      "B. 25\n",
      "C. 24\n",
      "D. 23\n"
     ]
    },
    {
     "name": "stdin",
     "output_type": "stream",
     "text": [
      "Enter (A, B, C, D):  A\n"
     ]
    },
    {
     "name": "stdout",
     "output_type": "stream",
     "text": [
      "CORRECT!\n",
      "----------------------\n",
      "Total planet in solar system?: \n",
      "A. 7\n",
      "B. 8\n",
      "C. 9\n",
      "D. 10\n"
     ]
    },
    {
     "name": "stdin",
     "output_type": "stream",
     "text": [
      "Enter (A, B, C, D):  B\n"
     ]
    },
    {
     "name": "stdout",
     "output_type": "stream",
     "text": [
      "CORRECT!\n",
      "----------------------\n",
      "Which planet is suitable for living?: \n",
      "A. mars\n",
      "B. jupitar\n",
      "C. earth\n",
      "D. venus\n"
     ]
    },
    {
     "name": "stdin",
     "output_type": "stream",
     "text": [
      "Enter (A, B, C, D):  B\n"
     ]
    },
    {
     "name": "stdout",
     "output_type": "stream",
     "text": [
      "INCORRECT!\n",
      "C is the correct answer\n",
      "----------------------\n",
      "How many bones are in the human body?: \n",
      "A. 206\n",
      "B. 207\n",
      "C. 208\n",
      "D. 209\n"
     ]
    },
    {
     "name": "stdin",
     "output_type": "stream",
     "text": [
      "Enter (A, B, C, D):  A\n"
     ]
    },
    {
     "name": "stdout",
     "output_type": "stream",
     "text": [
      "CORRECT!\n",
      "----------------------\n",
      "What is the Capital of India?: \n",
      "A. kolkata\n",
      "B. delhi\n",
      "C. bihar\n",
      "D. mumbai\n"
     ]
    },
    {
     "name": "stdin",
     "output_type": "stream",
     "text": [
      "Enter (A, B, C, D):  B\n"
     ]
    },
    {
     "name": "stdout",
     "output_type": "stream",
     "text": [
      "CORRECT!\n",
      "----------------------\n",
      "       RESULTS        \n",
      "----------------------\n",
      "answers: A B C A B \n",
      "guesses: A B B A B \n",
      "Your score is: 80%\n"
     ]
    }
   ],
   "source": [
    "questions = (\"Total alphabet in english?: \",\n",
    "                       \"Total planet in solar system?: \",\n",
    "                       \"Which planet is suitable for living?: \",\n",
    "                       \"How many bones are in the human body?: \",\n",
    "                       \"What is the Capital of India?: \")\n",
    "\n",
    "options = ((\"A. 26\", \"B. 25\", \"C. 24\", \"D. 23\"),\n",
    "                   (\"A. 7\", \"B. 8\", \"C. 9\", \"D. 10\"),\n",
    "                   (\"A. mars\", \"B. jupitar\", \"C. earth\", \"D. venus\"),\n",
    "                   (\"A. 206\", \"B. 207\", \"C. 208\", \"D. 209\"),\n",
    "                   (\"A. kolkata\", \"B. delhi\", \"C. bihar\", \"D. mumbai\"))\n",
    "\n",
    "answers = (\"A\", \"B\", \"C\", \"A\", \"B\")\n",
    "guesses = []\n",
    "score = 0\n",
    "question_num = 0\n",
    "\n",
    "for question in questions:\n",
    "    print(\"----------------------\")\n",
    "    print(question)\n",
    "    for option in options[question_num]:\n",
    "        print(option)\n",
    "\n",
    "    guess = input(\"Enter (A, B, C, D): \").upper()\n",
    "    guesses.append(guess)\n",
    "    if guess == answers[question_num]:\n",
    "        score += 1\n",
    "        print(\"CORRECT!\")\n",
    "    else:\n",
    "        print(\"INCORRECT!\")\n",
    "        print(f\"{answers[question_num]} is the correct answer\")\n",
    "    question_num += 1\n",
    "\n",
    "print(\"----------------------\")\n",
    "print(\"       RESULTS        \")\n",
    "print(\"----------------------\")\n",
    "\n",
    "print(\"answers: \", end=\"\")\n",
    "for answer in answers:\n",
    "    print(answer, end=\" \")\n",
    "print()\n",
    "\n",
    "print(\"guesses: \", end=\"\")\n",
    "for guess in guesses:\n",
    "    print(guess, end=\" \")\n",
    "print()\n",
    "\n",
    "score = int(score / len(questions) * 100)\n",
    "print(f\"Your score is: {score}%\")"
   ]
  },
  {
   "cell_type": "code",
   "execution_count": null,
   "id": "2e0a74e5-54d3-43d1-8d0c-f40873e23142",
   "metadata": {},
   "outputs": [],
   "source": []
  }
 ],
 "metadata": {
  "kernelspec": {
   "display_name": "anaconda-panel-2023.05-py310",
   "language": "python",
   "name": "conda-env-anaconda-panel-2023.05-py310-py"
  },
  "language_info": {
   "codemirror_mode": {
    "name": "ipython",
    "version": 3
   },
   "file_extension": ".py",
   "mimetype": "text/x-python",
   "name": "python",
   "nbconvert_exporter": "python",
   "pygments_lexer": "ipython3",
   "version": "3.11.5"
  }
 },
 "nbformat": 4,
 "nbformat_minor": 5
}
